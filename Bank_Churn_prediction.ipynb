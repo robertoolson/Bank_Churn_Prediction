{
 "cells": [
  {
   "cell_type": "markdown",
   "metadata": {},
   "source": [
    "# Bank Churn Prediction Proyect"
   ]
  },
  {
   "cell_type": "markdown",
   "metadata": {},
   "source": [
    "## Introduction"
   ]
  },
  {
   "cell_type": "markdown",
   "metadata": {},
   "source": [
    "En este proyecto vamos a analizar algunos datos del banco \"Beta Bank\" ya que los clientes se estan saliendo del banco poco a poco, asi que nuestro trabajo sera predecir si alguno de \n",
    "los clientes actuales dejara el banco pronto para asi poder tomar medidas y evitar que esto suceda. Crearemos un modelo con el maximo F1 posible.\n",
    "\n"
   ]
  },
  {
   "cell_type": "markdown",
   "metadata": {},
   "source": [
    "## Objectives"
   ]
  },
  {
   "cell_type": "markdown",
   "metadata": {},
   "source": [
    "Desarrollar un modelo predictivo eficiente que identifique con alta precisión a los clientes con mayor riesgo de abandonar los servicios de Beta Bank. Este modelo ayudará a la entidad bancaria a implementar estrategias proactivas para la retención de clientes, optimizando recursos y mejorando la satisfacción del cliente."
   ]
  },
  {
   "cell_type": "markdown",
   "metadata": {},
   "source": [
    "## Importacion de datos"
   ]
  },
  {
   "cell_type": "code",
   "execution_count": 139,
   "metadata": {},
   "outputs": [],
   "source": [
    "# Manipulación y análisis de datos\n",
    "import pandas as pd\n",
    "import numpy as np\n",
    "\n",
    "# Visualización de datos\n",
    "import matplotlib.pyplot as plt\n",
    "import seaborn as sns\n",
    "\n",
    "# Preprocesamiento de datos\n",
    "from sklearn.model_selection import train_test_split\n",
    "from sklearn.preprocessing import StandardScaler\n",
    "from sklearn.utils import shuffle\n",
    "\n",
    "# Modelos de machine learning\n",
    "from sklearn.linear_model import LogisticRegression\n",
    "from sklearn.ensemble import RandomForestClassifier\n",
    "from sklearn.tree import DecisionTreeClassifier\n",
    "from sklearn.metrics import accuracy_score, recall_score, f1_score, roc_auc_score\n",
    "from sklearn.model_selection import GridSearchCV"
   ]
  },
  {
   "cell_type": "markdown",
   "metadata": {},
   "source": [
    "## Carga de data sets"
   ]
  },
  {
   "cell_type": "code",
   "execution_count": 140,
   "metadata": {},
   "outputs": [],
   "source": [
    "df = pd.read_csv('datasets/Churn.csv')"
   ]
  },
  {
   "cell_type": "markdown",
   "metadata": {},
   "source": [
    "## Analisis y preparacion de datos"
   ]
  },
  {
   "cell_type": "markdown",
   "metadata": {},
   "source": [
    "### Exploracion Inicial"
   ]
  },
  {
   "cell_type": "code",
   "execution_count": 141,
   "metadata": {},
   "outputs": [
    {
     "data": {
      "text/html": [
       "<div>\n",
       "<style scoped>\n",
       "    .dataframe tbody tr th:only-of-type {\n",
       "        vertical-align: middle;\n",
       "    }\n",
       "\n",
       "    .dataframe tbody tr th {\n",
       "        vertical-align: top;\n",
       "    }\n",
       "\n",
       "    .dataframe thead th {\n",
       "        text-align: right;\n",
       "    }\n",
       "</style>\n",
       "<table border=\"1\" class=\"dataframe\">\n",
       "  <thead>\n",
       "    <tr style=\"text-align: right;\">\n",
       "      <th></th>\n",
       "      <th>RowNumber</th>\n",
       "      <th>CustomerId</th>\n",
       "      <th>Surname</th>\n",
       "      <th>CreditScore</th>\n",
       "      <th>Geography</th>\n",
       "      <th>Gender</th>\n",
       "      <th>Age</th>\n",
       "      <th>Tenure</th>\n",
       "      <th>Balance</th>\n",
       "      <th>NumOfProducts</th>\n",
       "      <th>HasCrCard</th>\n",
       "      <th>IsActiveMember</th>\n",
       "      <th>EstimatedSalary</th>\n",
       "      <th>Exited</th>\n",
       "    </tr>\n",
       "  </thead>\n",
       "  <tbody>\n",
       "    <tr>\n",
       "      <th>0</th>\n",
       "      <td>1</td>\n",
       "      <td>15634602</td>\n",
       "      <td>Hargrave</td>\n",
       "      <td>619</td>\n",
       "      <td>France</td>\n",
       "      <td>Female</td>\n",
       "      <td>42</td>\n",
       "      <td>2.0</td>\n",
       "      <td>0.00</td>\n",
       "      <td>1</td>\n",
       "      <td>1</td>\n",
       "      <td>1</td>\n",
       "      <td>101348.88</td>\n",
       "      <td>1</td>\n",
       "    </tr>\n",
       "    <tr>\n",
       "      <th>1</th>\n",
       "      <td>2</td>\n",
       "      <td>15647311</td>\n",
       "      <td>Hill</td>\n",
       "      <td>608</td>\n",
       "      <td>Spain</td>\n",
       "      <td>Female</td>\n",
       "      <td>41</td>\n",
       "      <td>1.0</td>\n",
       "      <td>83807.86</td>\n",
       "      <td>1</td>\n",
       "      <td>0</td>\n",
       "      <td>1</td>\n",
       "      <td>112542.58</td>\n",
       "      <td>0</td>\n",
       "    </tr>\n",
       "    <tr>\n",
       "      <th>2</th>\n",
       "      <td>3</td>\n",
       "      <td>15619304</td>\n",
       "      <td>Onio</td>\n",
       "      <td>502</td>\n",
       "      <td>France</td>\n",
       "      <td>Female</td>\n",
       "      <td>42</td>\n",
       "      <td>8.0</td>\n",
       "      <td>159660.80</td>\n",
       "      <td>3</td>\n",
       "      <td>1</td>\n",
       "      <td>0</td>\n",
       "      <td>113931.57</td>\n",
       "      <td>1</td>\n",
       "    </tr>\n",
       "    <tr>\n",
       "      <th>3</th>\n",
       "      <td>4</td>\n",
       "      <td>15701354</td>\n",
       "      <td>Boni</td>\n",
       "      <td>699</td>\n",
       "      <td>France</td>\n",
       "      <td>Female</td>\n",
       "      <td>39</td>\n",
       "      <td>1.0</td>\n",
       "      <td>0.00</td>\n",
       "      <td>2</td>\n",
       "      <td>0</td>\n",
       "      <td>0</td>\n",
       "      <td>93826.63</td>\n",
       "      <td>0</td>\n",
       "    </tr>\n",
       "    <tr>\n",
       "      <th>4</th>\n",
       "      <td>5</td>\n",
       "      <td>15737888</td>\n",
       "      <td>Mitchell</td>\n",
       "      <td>850</td>\n",
       "      <td>Spain</td>\n",
       "      <td>Female</td>\n",
       "      <td>43</td>\n",
       "      <td>2.0</td>\n",
       "      <td>125510.82</td>\n",
       "      <td>1</td>\n",
       "      <td>1</td>\n",
       "      <td>1</td>\n",
       "      <td>79084.10</td>\n",
       "      <td>0</td>\n",
       "    </tr>\n",
       "  </tbody>\n",
       "</table>\n",
       "</div>"
      ],
      "text/plain": [
       "   RowNumber  CustomerId   Surname  CreditScore Geography  Gender  Age  \\\n",
       "0          1    15634602  Hargrave          619    France  Female   42   \n",
       "1          2    15647311      Hill          608     Spain  Female   41   \n",
       "2          3    15619304      Onio          502    France  Female   42   \n",
       "3          4    15701354      Boni          699    France  Female   39   \n",
       "4          5    15737888  Mitchell          850     Spain  Female   43   \n",
       "\n",
       "   Tenure    Balance  NumOfProducts  HasCrCard  IsActiveMember  \\\n",
       "0     2.0       0.00              1          1               1   \n",
       "1     1.0   83807.86              1          0               1   \n",
       "2     8.0  159660.80              3          1               0   \n",
       "3     1.0       0.00              2          0               0   \n",
       "4     2.0  125510.82              1          1               1   \n",
       "\n",
       "   EstimatedSalary  Exited  \n",
       "0        101348.88       1  \n",
       "1        112542.58       0  \n",
       "2        113931.57       1  \n",
       "3         93826.63       0  \n",
       "4         79084.10       0  "
      ]
     },
     "execution_count": 141,
     "metadata": {},
     "output_type": "execute_result"
    }
   ],
   "source": [
    "df.head()"
   ]
  },
  {
   "cell_type": "markdown",
   "metadata": {},
   "source": [
    "Características\n",
    "- RowNumber: índice de cadena de datos\n",
    "- CustomerId: identificador de cliente único\n",
    "- Surname: apellido\n",
    "- CreditScore: valor de crédito\n",
    "- Geography: país de residencia\n",
    "- Gender: sexo\n",
    "- Age: edad\n",
    "- Tenure: período durante el cual ha madurado el depósito a plazo fijo de un cliente (años)\n",
    "- Balance: saldo de la cuenta\n",
    "- NumOfProducts: número de productos bancarios utilizados por el cliente\n",
    "- HasCrCard: el cliente tiene una tarjeta de crédito (1 - sí; 0 - no)\n",
    "- IsActiveMember: actividad del cliente (1 - sí; 0 - no)\n",
    "- EstimatedSalary: salario estimado\n",
    "\n",
    "Objetivo\n",
    "- Exited: El cliente se ha ido (1 - sí; 0 - no)"
   ]
  },
  {
   "cell_type": "code",
   "execution_count": 142,
   "metadata": {},
   "outputs": [
    {
     "name": "stdout",
     "output_type": "stream",
     "text": [
      "<class 'pandas.core.frame.DataFrame'>\n",
      "RangeIndex: 10000 entries, 0 to 9999\n",
      "Data columns (total 14 columns):\n",
      " #   Column           Non-Null Count  Dtype  \n",
      "---  ------           --------------  -----  \n",
      " 0   RowNumber        10000 non-null  int64  \n",
      " 1   CustomerId       10000 non-null  int64  \n",
      " 2   Surname          10000 non-null  object \n",
      " 3   CreditScore      10000 non-null  int64  \n",
      " 4   Geography        10000 non-null  object \n",
      " 5   Gender           10000 non-null  object \n",
      " 6   Age              10000 non-null  int64  \n",
      " 7   Tenure           9091 non-null   float64\n",
      " 8   Balance          10000 non-null  float64\n",
      " 9   NumOfProducts    10000 non-null  int64  \n",
      " 10  HasCrCard        10000 non-null  int64  \n",
      " 11  IsActiveMember   10000 non-null  int64  \n",
      " 12  EstimatedSalary  10000 non-null  float64\n",
      " 13  Exited           10000 non-null  int64  \n",
      "dtypes: float64(3), int64(8), object(3)\n",
      "memory usage: 1.1+ MB\n"
     ]
    }
   ],
   "source": [
    "df.info()"
   ]
  },
  {
   "cell_type": "markdown",
   "metadata": {},
   "source": [
    "Podemos ver tenemos algunos datos nulos en Tenure, exactamente 909 los cuales representan un 9% de los datos, no es un porcentaje muy alto, pero si lo suficiente como para tener que tomar una decision sobre ellos ya que no podemos dejarlos asi, ya que podrian afectar a nuestro modelo. \n",
    "\n",
    "Tenemos varias opciones las cuales son las siguientes:\n",
    "\n",
    "- Eliminarlos\n",
    "- Rellenarlos con la media, mediana o moda\n",
    "- Rellenarlos con un valor aleatorio\n",
    "\n",
    "Decidimos eliminarlos ya que no es un porcentaje muy alto y no afectara mucho a nuestro modelo, y asi no tendremos que preocuparnos de ellos."
   ]
  },
  {
   "cell_type": "markdown",
   "metadata": {},
   "source": [
    "### Conversion a snake_case"
   ]
  },
  {
   "cell_type": "code",
   "execution_count": 143,
   "metadata": {},
   "outputs": [],
   "source": [
    "import re\n",
    "\n",
    "# Función para convertir PascalCase/CamelCase a snake_case\n",
    "def to_snake_case(name):\n",
    "    # Insertar un guión bajo entre palabras (mayúscula seguida de minúscula)\n",
    "    s1 = re.sub('(.)([A-Z][a-z]+)', r'\\1_\\2', name)\n",
    "    # Convertir cualquier mayúscula seguida de una mayúscula y una minúscula (para acrónimos) y manejar el final de la palabra\n",
    "    return re.sub('([a-z0-9])([A-Z])', r'\\1_\\2', s1).lower()\n",
    "\n",
    "# Ejemplo de uso con un DataFrame de Pandas\n",
    "df.columns = [to_snake_case(column) for column in df.columns]"
   ]
  },
  {
   "cell_type": "markdown",
   "metadata": {},
   "source": [
    "### Eliminacion de datos nulos"
   ]
  },
  {
   "cell_type": "code",
   "execution_count": 144,
   "metadata": {},
   "outputs": [],
   "source": [
    "df = df.dropna(subset=['tenure'])"
   ]
  },
  {
   "cell_type": "code",
   "execution_count": 145,
   "metadata": {},
   "outputs": [
    {
     "name": "stdout",
     "output_type": "stream",
     "text": [
      "<class 'pandas.core.frame.DataFrame'>\n",
      "Index: 9091 entries, 0 to 9998\n",
      "Data columns (total 14 columns):\n",
      " #   Column            Non-Null Count  Dtype  \n",
      "---  ------            --------------  -----  \n",
      " 0   row_number        9091 non-null   int64  \n",
      " 1   customer_id       9091 non-null   int64  \n",
      " 2   surname           9091 non-null   object \n",
      " 3   credit_score      9091 non-null   int64  \n",
      " 4   geography         9091 non-null   object \n",
      " 5   gender            9091 non-null   object \n",
      " 6   age               9091 non-null   int64  \n",
      " 7   tenure            9091 non-null   float64\n",
      " 8   balance           9091 non-null   float64\n",
      " 9   num_of_products   9091 non-null   int64  \n",
      " 10  has_cr_card       9091 non-null   int64  \n",
      " 11  is_active_member  9091 non-null   int64  \n",
      " 12  estimated_salary  9091 non-null   float64\n",
      " 13  exited            9091 non-null   int64  \n",
      "dtypes: float64(3), int64(8), object(3)\n",
      "memory usage: 1.0+ MB\n"
     ]
    }
   ],
   "source": [
    "df.info()"
   ]
  },
  {
   "cell_type": "markdown",
   "metadata": {},
   "source": [
    "### Comprobacion de duplicados"
   ]
  },
  {
   "cell_type": "code",
   "execution_count": 146,
   "metadata": {},
   "outputs": [
    {
     "name": "stdout",
     "output_type": "stream",
     "text": [
      "Cantidad de duplicados = 0\n"
     ]
    }
   ],
   "source": [
    "print(\"Cantidad de duplicados =\", df.duplicated().sum())\n"
   ]
  },
  {
   "cell_type": "markdown",
   "metadata": {},
   "source": [
    "Eliminamos los datos nulos y comprobamos que ya no tenemos ninguno.\n",
    "\n",
    "A demas verificamos si no tenemos valores duplicados, ya que podrian afectar a nuestro modelo."
   ]
  },
  {
   "cell_type": "markdown",
   "metadata": {},
   "source": [
    "### Eliminacion de columnas innecesarias"
   ]
  },
  {
   "cell_type": "markdown",
   "metadata": {},
   "source": [
    "Ya que tenemos columnas que no van a ayudar a nuestro modelo, las vamos a eliminar, estas son RowNumber, Surname y CustomerId."
   ]
  },
  {
   "cell_type": "code",
   "execution_count": 147,
   "metadata": {},
   "outputs": [],
   "source": [
    "df = df.drop(columns=['surname'])\n",
    "df = df.drop(columns=['row_number'])\n",
    "df = df.drop(columns=['customer_id'])\n",
    "\n"
   ]
  },
  {
   "cell_type": "markdown",
   "metadata": {},
   "source": [
    "### Analisis Grafico de datos"
   ]
  },
  {
   "cell_type": "markdown",
   "metadata": {},
   "source": [
    "Para comprender mejor los datos, vamos a realizar un analisis grafico de los mismos."
   ]
  },
  {
   "cell_type": "code",
   "execution_count": 148,
   "metadata": {},
   "outputs": [
    {
     "data": {
      "image/png": "[encoded data removed]",
      "text/plain": [
       "<Figure size 640x480 with 1 Axes>"
      ]
     },
     "metadata": {},
     "output_type": "display_data"
    }
   ],
   "source": [
    "# Graficamos la distribución de la variable objetivo\n",
    "\n",
    "sns.countplot(x='exited', data=df)\n",
    "plt.show()"
   ]
  },
  {
   "cell_type": "code",
   "execution_count": 149,
   "metadata": {},
   "outputs": [
    {
     "data": {
      "image/png": "[encoded data removed]",
      "text/plain": [
       "<Figure size 1000x600 with 1 Axes>"
      ]
     },
     "metadata": {},
     "output_type": "display_data"
    }
   ],
   "source": [
    "\n",
    "# Graficamos la edad de los clientes\n",
    "\n",
    "plt.figure(figsize=(10, 6))\n",
    "plt.hist(df['age'], bins=30, alpha=0.7, color='purple', edgecolor='black')\n",
    "plt.title('Distribución de la Edad')\n",
    "plt.xlabel('Edad')\n",
    "plt.ylabel('Frecuencia')\n",
    "plt.grid(True)  # Añadir una cuadrícula para facilitar la lectura\n",
    "plt.axvline(df['age'].mean(), color='red', linestyle='dashed', linewidth=1)  # Línea vertical para la media\n",
    "plt.legend(['Media', 'Edad'])  # Actualizar la leyenda para incluir la media\n",
    "plt.tight_layout()  # Ajustar automáticamente los parámetros de la subtrama\n",
    "plt.show()"
   ]
  },
  {
   "cell_type": "code",
   "execution_count": 150,
   "metadata": {},
   "outputs": [
    {
     "data": {
      "image/png": "[encoded data removed]",
      "text/plain": [
       "<Figure size 1000x600 with 1 Axes>"
      ]
     },
     "metadata": {},
     "output_type": "display_data"
    }
   ],
   "source": [
    "# Graficamos la distribución de la antigüedad de los clientes\n",
    "\n",
    "plt.figure(figsize=(10, 6))\n",
    "plt.hist(df['tenure'], bins=30, alpha=0.7, color='skyblue', edgecolor='black')\n",
    "plt.title('Distribución de la Antigüedad')\n",
    "plt.xlabel('Antigüedad (años)')\n",
    "plt.ylabel('Frecuencia')\n",
    "plt.grid(True)  # Añadir una cuadrícula para facilitar la lectura\n",
    "plt.axvline(df['tenure'].mean(), color='darkorange', linestyle='dashed', linewidth=1)  # Línea vertical para la media\n",
    "plt.legend(['Media', 'Antigüedad'])  # Actualizar la leyenda para incluir la media\n",
    "plt.tight_layout()  # Ajustar automáticamente los parámetros de la subtrama\n",
    "plt.show()"
   ]
  },
  {
   "cell_type": "code",
   "execution_count": 151,
   "metadata": {},
   "outputs": [
    {
     "data": {
      "image/png": "[encoded data removed]",
      "text/plain": [
       "<Figure size 1000x600 with 1 Axes>"
      ]
     },
     "metadata": {},
     "output_type": "display_data"
    }
   ],
   "source": [
    "# Graficamos la distribución del balance de los clientes\n",
    "\n",
    "plt.figure(figsize=(10, 6))\n",
    "plt.hist(df['balance'], bins=30, alpha=0.7, color='royalblue', edgecolor='black')\n",
    "plt.title('Distribución del Balance')\n",
    "plt.xlabel('Balance')\n",
    "plt.ylabel('Frecuencia')\n",
    "plt.grid(True)  # Añadir una cuadrícula para facilitar la lectura\n",
    "plt.axvline(df['balance'].mean(), color='red', linestyle='dashed', linewidth=1)  # Línea vertical para la media\n",
    "plt.legend(['Media', 'Balance'])  # Actualizar la leyenda para incluir la media\n",
    "plt.tight_layout()  # Ajustar automáticamente los parámetros de la subtrama\n",
    "plt.show()\n",
    "\n"
   ]
  },
  {
   "cell_type": "markdown",
   "metadata": {},
   "source": [
    "Podemos ver que en esta grafica como un gran numero de clientes tienen un balance de 0 en sus cuentas, esto puede ser debido a que son clientes nuevos y no han tenido tiempo de acumular dinero en sus cuentas, o que simplemente dejaron de utilizar el banco y dejaron sus cuentas en 0 o que simplemente no tienen dinero en sus cuentas."
   ]
  },
  {
   "cell_type": "code",
   "execution_count": 152,
   "metadata": {},
   "outputs": [
    {
     "data": {
      "image/png": "[encoded data removed]",
      "text/plain": [
       "<Figure size 1000x600 with 1 Axes>"
      ]
     },
     "metadata": {},
     "output_type": "display_data"
    }
   ],
   "source": [
    "# Graficamos la distribucion del balance con respecto a la variable objetivo\n",
    "\n",
    "plt.figure(figsize=(10, 6))\n",
    "sns.boxplot(x='exited', y='balance', data=df, showfliers=True, flierprops=dict(marker='o', markersize=5, linestyle='none', markeredgecolor='gray'))\n",
    "sns.stripplot(x='exited', y='balance', data=df, color='grey', alpha=0.4, jitter=True)\n",
    "plt.title('Balance vs Exited')\n",
    "plt.xlabel('Exited')\n",
    "plt.ylabel('Balance')\n",
    "plt.show()"
   ]
  },
  {
   "cell_type": "markdown",
   "metadata": {},
   "source": [
    "Con esta grafica podemos ver que muchos de los que no se han ido del banco tiene un balance cercano a 0, mientras que los que se han ido tienen un balance mas alto, esto podria significar que muchos que tienen una cuenta con poco dinero no podrian estar utilizando el banco y podrian ser algun tipo de ruido en los datos ya que realmente no estan utilizando el mismo."
   ]
  },
  {
   "cell_type": "code",
   "execution_count": 153,
   "metadata": {},
   "outputs": [
    {
     "data": {
      "image/png": "[encoded data removed]",
      "text/plain": [
       "<Figure size 1000x600 with 1 Axes>"
      ]
     },
     "metadata": {},
     "output_type": "display_data"
    }
   ],
   "source": [
    "# Graficaremos la distribucion geografica de los clientes\n",
    "\n",
    "plt.figure(figsize=(10, 6))\n",
    "sns.countplot(x='geography', data=df)\n",
    "plt.title('Geografía')\n",
    "plt.xlabel('País')\n",
    "plt.ylabel('Frecuencia')\n",
    "plt.show()"
   ]
  },
  {
   "cell_type": "markdown",
   "metadata": {},
   "source": [
    "## Categorizacion de datos"
   ]
  },
  {
   "cell_type": "markdown",
   "metadata": {},
   "source": [
    "Ya que tenemos datos categoricos, tenemos que convertirlos a numericos para que nuestro modelo pueda trabajar con ellos. Especificamente Gender y Geography."
   ]
  },
  {
   "cell_type": "code",
   "execution_count": 154,
   "metadata": {},
   "outputs": [
    {
     "data": {
      "text/html": [
       "<div>\n",
       "<style scoped>\n",
       "    .dataframe tbody tr th:only-of-type {\n",
       "        vertical-align: middle;\n",
       "    }\n",
       "\n",
       "    .dataframe tbody tr th {\n",
       "        vertical-align: top;\n",
       "    }\n",
       "\n",
       "    .dataframe thead th {\n",
       "        text-align: right;\n",
       "    }\n",
       "</style>\n",
       "<table border=\"1\" class=\"dataframe\">\n",
       "  <thead>\n",
       "    <tr style=\"text-align: right;\">\n",
       "      <th></th>\n",
       "      <th>credit_score</th>\n",
       "      <th>age</th>\n",
       "      <th>tenure</th>\n",
       "      <th>balance</th>\n",
       "      <th>num_of_products</th>\n",
       "      <th>has_cr_card</th>\n",
       "      <th>is_active_member</th>\n",
       "      <th>estimated_salary</th>\n",
       "      <th>exited</th>\n",
       "      <th>geography_France</th>\n",
       "      <th>geography_Germany</th>\n",
       "      <th>geography_Spain</th>\n",
       "      <th>gender_Female</th>\n",
       "      <th>gender_Male</th>\n",
       "    </tr>\n",
       "  </thead>\n",
       "  <tbody>\n",
       "    <tr>\n",
       "      <th>0</th>\n",
       "      <td>619</td>\n",
       "      <td>42</td>\n",
       "      <td>2.0</td>\n",
       "      <td>0.00</td>\n",
       "      <td>1</td>\n",
       "      <td>1</td>\n",
       "      <td>1</td>\n",
       "      <td>101348.88</td>\n",
       "      <td>1</td>\n",
       "      <td>True</td>\n",
       "      <td>False</td>\n",
       "      <td>False</td>\n",
       "      <td>True</td>\n",
       "      <td>False</td>\n",
       "    </tr>\n",
       "    <tr>\n",
       "      <th>1</th>\n",
       "      <td>608</td>\n",
       "      <td>41</td>\n",
       "      <td>1.0</td>\n",
       "      <td>83807.86</td>\n",
       "      <td>1</td>\n",
       "      <td>0</td>\n",
       "      <td>1</td>\n",
       "      <td>112542.58</td>\n",
       "      <td>0</td>\n",
       "      <td>False</td>\n",
       "      <td>False</td>\n",
       "      <td>True</td>\n",
       "      <td>True</td>\n",
       "      <td>False</td>\n",
       "    </tr>\n",
       "    <tr>\n",
       "      <th>2</th>\n",
       "      <td>502</td>\n",
       "      <td>42</td>\n",
       "      <td>8.0</td>\n",
       "      <td>159660.80</td>\n",
       "      <td>3</td>\n",
       "      <td>1</td>\n",
       "      <td>0</td>\n",
       "      <td>113931.57</td>\n",
       "      <td>1</td>\n",
       "      <td>True</td>\n",
       "      <td>False</td>\n",
       "      <td>False</td>\n",
       "      <td>True</td>\n",
       "      <td>False</td>\n",
       "    </tr>\n",
       "    <tr>\n",
       "      <th>3</th>\n",
       "      <td>699</td>\n",
       "      <td>39</td>\n",
       "      <td>1.0</td>\n",
       "      <td>0.00</td>\n",
       "      <td>2</td>\n",
       "      <td>0</td>\n",
       "      <td>0</td>\n",
       "      <td>93826.63</td>\n",
       "      <td>0</td>\n",
       "      <td>True</td>\n",
       "      <td>False</td>\n",
       "      <td>False</td>\n",
       "      <td>True</td>\n",
       "      <td>False</td>\n",
       "    </tr>\n",
       "    <tr>\n",
       "      <th>4</th>\n",
       "      <td>850</td>\n",
       "      <td>43</td>\n",
       "      <td>2.0</td>\n",
       "      <td>125510.82</td>\n",
       "      <td>1</td>\n",
       "      <td>1</td>\n",
       "      <td>1</td>\n",
       "      <td>79084.10</td>\n",
       "      <td>0</td>\n",
       "      <td>False</td>\n",
       "      <td>False</td>\n",
       "      <td>True</td>\n",
       "      <td>True</td>\n",
       "      <td>False</td>\n",
       "    </tr>\n",
       "  </tbody>\n",
       "</table>\n",
       "</div>"
      ],
      "text/plain": [
       "   credit_score  age  tenure    balance  num_of_products  has_cr_card  \\\n",
       "0           619   42     2.0       0.00                1            1   \n",
       "1           608   41     1.0   83807.86                1            0   \n",
       "2           502   42     8.0  159660.80                3            1   \n",
       "3           699   39     1.0       0.00                2            0   \n",
       "4           850   43     2.0  125510.82                1            1   \n",
       "\n",
       "   is_active_member  estimated_salary  exited  geography_France  \\\n",
       "0                 1         101348.88       1              True   \n",
       "1                 1         112542.58       0             False   \n",
       "2                 0         113931.57       1              True   \n",
       "3                 0          93826.63       0              True   \n",
       "4                 1          79084.10       0             False   \n",
       "\n",
       "   geography_Germany  geography_Spain  gender_Female  gender_Male  \n",
       "0              False            False           True        False  \n",
       "1              False             True           True        False  \n",
       "2              False            False           True        False  \n",
       "3              False            False           True        False  \n",
       "4              False             True           True        False  "
      ]
     },
     "execution_count": 154,
     "metadata": {},
     "output_type": "execute_result"
    }
   ],
   "source": [
    "df = pd.get_dummies(df, columns=['geography', 'gender'])\n",
    "df.head(5)\n"
   ]
  },
  {
   "cell_type": "code",
   "execution_count": 155,
   "metadata": {},
   "outputs": [
    {
     "data": {
      "text/html": [
       "<div>\n",
       "<style scoped>\n",
       "    .dataframe tbody tr th:only-of-type {\n",
       "        vertical-align: middle;\n",
       "    }\n",
       "\n",
       "    .dataframe tbody tr th {\n",
       "        vertical-align: top;\n",
       "    }\n",
       "\n",
       "    .dataframe thead th {\n",
       "        text-align: right;\n",
       "    }\n",
       "</style>\n",
       "<table border=\"1\" class=\"dataframe\">\n",
       "  <thead>\n",
       "    <tr style=\"text-align: right;\">\n",
       "      <th></th>\n",
       "      <th>credit_score</th>\n",
       "      <th>age</th>\n",
       "      <th>tenure</th>\n",
       "      <th>balance</th>\n",
       "      <th>num_of_products</th>\n",
       "      <th>has_cr_card</th>\n",
       "      <th>is_active_member</th>\n",
       "      <th>estimated_salary</th>\n",
       "      <th>exited</th>\n",
       "      <th>geography_france</th>\n",
       "      <th>geography_germany</th>\n",
       "      <th>geography_spain</th>\n",
       "      <th>gender_female</th>\n",
       "      <th>gender_male</th>\n",
       "    </tr>\n",
       "  </thead>\n",
       "  <tbody>\n",
       "    <tr>\n",
       "      <th>0</th>\n",
       "      <td>619</td>\n",
       "      <td>42</td>\n",
       "      <td>2.0</td>\n",
       "      <td>0.00</td>\n",
       "      <td>1</td>\n",
       "      <td>1</td>\n",
       "      <td>1</td>\n",
       "      <td>101348.88</td>\n",
       "      <td>1</td>\n",
       "      <td>True</td>\n",
       "      <td>False</td>\n",
       "      <td>False</td>\n",
       "      <td>True</td>\n",
       "      <td>False</td>\n",
       "    </tr>\n",
       "    <tr>\n",
       "      <th>1</th>\n",
       "      <td>608</td>\n",
       "      <td>41</td>\n",
       "      <td>1.0</td>\n",
       "      <td>83807.86</td>\n",
       "      <td>1</td>\n",
       "      <td>0</td>\n",
       "      <td>1</td>\n",
       "      <td>112542.58</td>\n",
       "      <td>0</td>\n",
       "      <td>False</td>\n",
       "      <td>False</td>\n",
       "      <td>True</td>\n",
       "      <td>True</td>\n",
       "      <td>False</td>\n",
       "    </tr>\n",
       "    <tr>\n",
       "      <th>2</th>\n",
       "      <td>502</td>\n",
       "      <td>42</td>\n",
       "      <td>8.0</td>\n",
       "      <td>159660.80</td>\n",
       "      <td>3</td>\n",
       "      <td>1</td>\n",
       "      <td>0</td>\n",
       "      <td>113931.57</td>\n",
       "      <td>1</td>\n",
       "      <td>True</td>\n",
       "      <td>False</td>\n",
       "      <td>False</td>\n",
       "      <td>True</td>\n",
       "      <td>False</td>\n",
       "    </tr>\n",
       "    <tr>\n",
       "      <th>3</th>\n",
       "      <td>699</td>\n",
       "      <td>39</td>\n",
       "      <td>1.0</td>\n",
       "      <td>0.00</td>\n",
       "      <td>2</td>\n",
       "      <td>0</td>\n",
       "      <td>0</td>\n",
       "      <td>93826.63</td>\n",
       "      <td>0</td>\n",
       "      <td>True</td>\n",
       "      <td>False</td>\n",
       "      <td>False</td>\n",
       "      <td>True</td>\n",
       "      <td>False</td>\n",
       "    </tr>\n",
       "    <tr>\n",
       "      <th>4</th>\n",
       "      <td>850</td>\n",
       "      <td>43</td>\n",
       "      <td>2.0</td>\n",
       "      <td>125510.82</td>\n",
       "      <td>1</td>\n",
       "      <td>1</td>\n",
       "      <td>1</td>\n",
       "      <td>79084.10</td>\n",
       "      <td>0</td>\n",
       "      <td>False</td>\n",
       "      <td>False</td>\n",
       "      <td>True</td>\n",
       "      <td>True</td>\n",
       "      <td>False</td>\n",
       "    </tr>\n",
       "  </tbody>\n",
       "</table>\n",
       "</div>"
      ],
      "text/plain": [
       "   credit_score  age  tenure    balance  num_of_products  has_cr_card  \\\n",
       "0           619   42     2.0       0.00                1            1   \n",
       "1           608   41     1.0   83807.86                1            0   \n",
       "2           502   42     8.0  159660.80                3            1   \n",
       "3           699   39     1.0       0.00                2            0   \n",
       "4           850   43     2.0  125510.82                1            1   \n",
       "\n",
       "   is_active_member  estimated_salary  exited  geography_france  \\\n",
       "0                 1         101348.88       1              True   \n",
       "1                 1         112542.58       0             False   \n",
       "2                 0         113931.57       1              True   \n",
       "3                 0          93826.63       0              True   \n",
       "4                 1          79084.10       0             False   \n",
       "\n",
       "   geography_germany  geography_spain  gender_female  gender_male  \n",
       "0              False            False           True        False  \n",
       "1              False             True           True        False  \n",
       "2              False            False           True        False  \n",
       "3              False            False           True        False  \n",
       "4              False             True           True        False  "
      ]
     },
     "execution_count": 155,
     "metadata": {},
     "output_type": "execute_result"
    }
   ],
   "source": [
    "df.columns = df.columns.str.lower()\n",
    "df.head()"
   ]
  },
  {
   "cell_type": "markdown",
   "metadata": {},
   "source": [
    "## Division del conjunto de Datos"
   ]
  },
  {
   "cell_type": "markdown",
   "metadata": {},
   "source": [
    "En este paso vamos a dividir nuestro conjunto de datos en 3 partes, train, validacion y test. Para poder entrenar nuestro modelo, validar que funciona correctamente y por ultimo testearlo."
   ]
  },
  {
   "cell_type": "code",
   "execution_count": 156,
   "metadata": {},
   "outputs": [],
   "source": [
    "df_train, df_temp = train_test_split(df, test_size=0.2, random_state=12345)\n",
    "df_val, df_test = train_test_split(df_temp, test_size=0.25, random_state=12345)\n"
   ]
  },
  {
   "cell_type": "markdown",
   "metadata": {},
   "source": [
    "## Escalado de Caracteristicas"
   ]
  },
  {
   "cell_type": "markdown",
   "metadata": {},
   "source": [
    "Dado que algunas de nuestras columnas tienen valores muy altos y otras muy bajos, tenemos que escalarlas para que nuestro modelo pueda trabajar con ellas correctamente. Entre ellas tenemos CreditScore, Age, Tenure, Balance y EstimatedSalary."
   ]
  },
  {
   "cell_type": "code",
   "execution_count": 157,
   "metadata": {},
   "outputs": [],
   "source": [
    "scaler = StandardScaler()\n",
    "num_columns = ['credit_score', 'age', 'tenure', 'balance', 'num_of_products', 'estimated_salary']\n",
    "scaler.fit(df_train[num_columns])\n",
    "\n",
    "\n",
    "df_train[num_columns] = scaler.transform(df_train[num_columns])\n",
    "df_val[num_columns] = scaler.transform(df_val[num_columns])\n",
    "df_test[num_columns] = scaler.transform(df_test[num_columns])"
   ]
  },
  {
   "cell_type": "markdown",
   "metadata": {},
   "source": [
    "## Verificacion del equilibrio de clases"
   ]
  },
  {
   "cell_type": "code",
   "execution_count": 158,
   "metadata": {},
   "outputs": [
    {
     "name": "stdout",
     "output_type": "stream",
     "text": [
      "exited\n",
      "0    0.795792\n",
      "1    0.204208\n",
      "Name: proportion, dtype: float64\n"
     ]
    }
   ],
   "source": [
    "class_distribution = df_train['exited'].value_counts(normalize=True)\n",
    "print(class_distribution)\n"
   ]
  },
  {
   "cell_type": "markdown",
   "metadata": {},
   "source": [
    "Podemos ver que tenemos un desequilibrio de clases, ya que tenemos un 80% de clientes que no se han ido y un 20% que si se han ido. Esto puede afectar a nuestro modelo, ya que podria aprender a predecir que todos los clientes no se van a ir y tendriamos un modelo que no nos serviria para nada.\n",
    "\n",
    "Para este proyecto vamos a entrenar a nuestros modelos con los datos desbalanceados y balanceadors (oversampling y undersampling) para ver cual de ellos nos da mejores resultados.\n"
   ]
  },
  {
   "cell_type": "markdown",
   "metadata": {},
   "source": [
    "### Sobre muestreo (oversampling)"
   ]
  },
  {
   "cell_type": "code",
   "execution_count": 159,
   "metadata": {},
   "outputs": [],
   "source": [
    "# Dividir el conjunto de entrenamiento en características y variable objetivo\n",
    "x_train_over = df_train.drop('exited', axis=1)\n",
    "y_train_over = df_train['exited']\n",
    "\n",
    "# Sobremuestreo de la clase minoritaria\n",
    "minority_class = df_train[df_train['exited'] == 1] # Obtener la clase minoritaria\n",
    "oversampled_minority_class = pd.concat([minority_class] * 3, ignore_index=True) # Repetir la clase minoritaria 3 veces para obtener una clase minoritaria sobremuestrada\n",
    "oversampled_minority_class = shuffle(oversampled_minority_class, random_state=12345) # Mezclar la clase minoritaria sobremuestrada\n",
    "\n",
    "# Combinar la clase minoritaria sobremuestrada con la clase mayoritaria para obtener x_train_over_sampled\n",
    "x_train_over_sampled = pd.concat([x_train_over, oversampled_minority_class.drop('exited', axis=1)], ignore_index=True) # Eliminar la columna 'exited' de la clase minoritaria sobremuestrada\n",
    "y_train_over_sampled = pd.concat([y_train_over, oversampled_minority_class['exited']], ignore_index=True) # Obtener la columna 'exited' de la clase minoritaria sobremuestrada"
   ]
  },
  {
   "cell_type": "markdown",
   "metadata": {},
   "source": [
    "### Sub muestreo (undersampling)"
   ]
  },
  {
   "cell_type": "code",
   "execution_count": 160,
   "metadata": {},
   "outputs": [],
   "source": [
    "# Dividir el conjunto de entrenamiento en características y variable objetivo\n",
    "x_train_under = df_train.drop('exited', axis=1)\n",
    "y_train_under = df_train['exited']\n",
    "\n",
    "# Tamaño de la clase minoritaria\n",
    "size_minority_class = len(df_train[df_train['exited'] == 1])\n",
    "\n",
    "# DataFrame de la clase mayoritaria\n",
    "majority_class_df = df_train[df_train['exited'] == 0]\n",
    "\n",
    "# Submuestreo de la clase mayoritaria para igualar el tamaño de la clase minoritaria\n",
    "undersampled_majority_class = majority_class_df.sample(n=size_minority_class, random_state=12345)\n",
    "undersampled_majority_class = shuffle(undersampled_majority_class, random_state=12345)\n",
    "\n",
    "# DataFrame de la clase minoritaria\n",
    "minority_class_df = df_train[df_train['exited'] == 1]\n",
    "\n",
    "# Combinar la clase mayoritaria submuestreada con la clase minoritaria\n",
    "x_train_under_sampled = pd.concat([minority_class_df.drop('exited', axis=1), undersampled_majority_class.drop('exited', axis=1)], ignore_index=True)\n",
    "y_train_under_sampled = pd.concat([minority_class_df['exited'], undersampled_majority_class['exited']], ignore_index=True)"
   ]
  },
  {
   "cell_type": "markdown",
   "metadata": {},
   "source": [
    "### Verificacion de Balanceos de clases"
   ]
  },
  {
   "cell_type": "code",
   "execution_count": 161,
   "metadata": {},
   "outputs": [
    {
     "name": "stdout",
     "output_type": "stream",
     "text": [
      "Balance original:\n",
      " exited\n",
      "0    5787\n",
      "1    1485\n",
      "Name: count, dtype: int64\n",
      "\n",
      "Balance sobremuestreado:\n",
      " exited\n",
      "1    5940\n",
      "0    5787\n",
      "Name: count, dtype: int64\n",
      "\n",
      "Balance submuestreado:\n",
      " exited\n",
      "1    1485\n",
      "0    1485\n",
      "Name: count, dtype: int64\n"
     ]
    }
   ],
   "source": [
    "# Para el conjunto original\n",
    "# Dividir el conjunto sin balancear en características y variable objetivo\n",
    "x_train = df_train.drop('exited', axis=1)\n",
    "y_train = df_train['exited']\n",
    "balance_original = y_train.value_counts()\n",
    "print('Balance original:\\n', balance_original)\n",
    "\n",
    "# Para el conjunto sobremuestreado\n",
    "balance_oversampled = y_train_over_sampled.value_counts()\n",
    "print('\\nBalance sobremuestreado:\\n', balance_oversampled)\n",
    "\n",
    "# Para el conjunto submuestreado\n",
    "balance_undersampled = y_train_under_sampled.value_counts()\n",
    "print('\\nBalance submuestreado:\\n', balance_undersampled)"
   ]
  },
  {
   "cell_type": "markdown",
   "metadata": {},
   "source": [
    "Podemos ver que ahora tenemos un 3 diferentes conjuntos de datos, uno con los datos originales, otro con los datos balanceados con oversampling y otro con los datos balanceados con undersampling."
   ]
  },
  {
   "cell_type": "markdown",
   "metadata": {},
   "source": [
    "## Seleccion de Modelos y Entrenamiento"
   ]
  },
  {
   "cell_type": "markdown",
   "metadata": {},
   "source": [
    "### Seleccion Inicial de Modelos"
   ]
  },
  {
   "cell_type": "markdown",
   "metadata": {},
   "source": [
    "Para esta parte nos vamos a decidir por 3 modelos, los cuales son los siguientes:\n",
    "\n",
    "- LogisticRegression\n",
    "- DecisionTreeClassifier\n",
    "- RandomForestClassifier"
   ]
  },
  {
   "cell_type": "markdown",
   "metadata": {},
   "source": [
    "#### Variables para entrenamiento"
   ]
  },
  {
   "cell_type": "markdown",
   "metadata": {},
   "source": [
    "#### Sin balanceo\n",
    "- x_train\n",
    "- y_train\n",
    "\n",
    "#### Oversampling\n",
    "- x_train_oversampling\n",
    "- y_train_oversampling\n",
    "\n",
    "#### Undersampling\n",
    "- x_train_undersampling\n",
    "- y_train_undersampling"
   ]
  },
  {
   "cell_type": "markdown",
   "metadata": {},
   "source": [
    "### Logistic Regression"
   ]
  },
  {
   "cell_type": "markdown",
   "metadata": {},
   "source": [
    "#### Sin balanceo"
   ]
  },
  {
   "cell_type": "markdown",
   "metadata": {},
   "source": [
    "##### Busqueda de mejores parametros"
   ]
  },
  {
   "cell_type": "code",
   "execution_count": 162,
   "metadata": {},
   "outputs": [
    {
     "name": "stdout",
     "output_type": "stream",
     "text": [
      "Mejor F1 Score: 0.3513513513513513, Mejor C: 1, Mejor Penalty: l2\n"
     ]
    }
   ],
   "source": [
    "C_values = [0.01, 0.1, 1, 10, 100]\n",
    "penalties = ['l1', 'l2']\n",
    "\n",
    "best_model = None\n",
    "best_result = 0\n",
    "best_C = None\n",
    "best_penalty = None\n",
    "\n",
    "for C in C_values:\n",
    "    for penalty in penalties:\n",
    "        # Intentar entrenar el modelo con los hiperparámetros actuales\n",
    "        try:\n",
    "            model = LogisticRegression(C=C, penalty=penalty, solver='liblinear', random_state=12345)\n",
    "            model.fit(x_train, y_train)\n",
    "            y_pred = model.predict(df_val.drop('exited', axis=1))\n",
    "            result = f1_score(df_val['exited'], y_pred)\n",
    "\n",
    "            # Actualizar los mejores hiperparámetros si el resultado es mejor\n",
    "            if result > best_result:\n",
    "                best_model = model\n",
    "                best_result = result\n",
    "                best_C = C\n",
    "                best_penalty = penalty\n",
    "\n",
    "        except Exception as e:\n",
    "            print(f\"No se pudo entrenar el modelo con C = {C} y penalty = {penalty}: {e}\")\n",
    "\n",
    "print(f\"Mejor F1 Score: {best_result}, Mejor C: {best_C}, Mejor Penalty: {best_penalty}\")"
   ]
  },
  {
   "cell_type": "code",
   "execution_count": 163,
   "metadata": {},
   "outputs": [],
   "source": [
    "# Seleccionar el modelo\n",
    "model_no_balance = LogisticRegression(C=1, penalty=\"l2\", random_state=12345, solver='liblinear')\n",
    "\n",
    "# Entrenar el modelo\n",
    "model_no_balance.fit(x_train, y_train)\n",
    "\n",
    "# Predecir la variable objetivo para el conjunto de validación\n",
    "y_pred_no_balance = model_no_balance.predict(df_val.drop('exited', axis=1))"
   ]
  },
  {
   "cell_type": "code",
   "execution_count": 164,
   "metadata": {},
   "outputs": [
    {
     "name": "stdout",
     "output_type": "stream",
     "text": [
      "Accuracy: 0.8240469208211144\n",
      "Recall: 0.23722627737226276\n",
      "ROC AUC: 0.6043929551998928\n",
      "F1 Score: 0.3513513513513513\n"
     ]
    }
   ],
   "source": [
    "# Calcular la precisión\n",
    "accuracy_no_balance_log = accuracy_score(df_val['exited'], y_pred_no_balance)\n",
    "\n",
    "# Calcular el recall\n",
    "recall_no_balance_log = recall_score(df_val['exited'], y_pred_no_balance)\n",
    "\n",
    "# Calcular el F1-score\n",
    "f1_no_balance_log = f1_score(df_val['exited'], y_pred_no_balance)\n",
    "\n",
    "# Calcular el ROC AUC\n",
    "roc_auc_no_balance_log = roc_auc_score(df_val['exited'], y_pred_no_balance)\n",
    "\n",
    "print(f\"Accuracy: {accuracy_no_balance_log}\")\n",
    "print(f\"Recall: {recall_no_balance_log}\")\n",
    "print(f\"ROC AUC: {roc_auc_no_balance_log}\")\n",
    "print(f\"F1 Score: {f1_no_balance_log}\")"
   ]
  },
  {
   "cell_type": "markdown",
   "metadata": {},
   "source": [
    "Podemos ver que el modelo de regresion logistica sin balancear nos da un F1 de 0.3515, lo cual no es muy bueno, pero es un buen punto de partida."
   ]
  },
  {
   "cell_type": "markdown",
   "metadata": {},
   "source": [
    "#### Sobremuestreo (oversampling)"
   ]
  },
  {
   "cell_type": "markdown",
   "metadata": {},
   "source": [
    "##### Busqueda de mejores parametros"
   ]
  },
  {
   "cell_type": "code",
   "execution_count": 165,
   "metadata": {},
   "outputs": [
    {
     "name": "stdout",
     "output_type": "stream",
     "text": [
      "Mejor F1 Score: 0.49937578027465673, Mejor C: 0.1, Mejor Penalty: l2\n"
     ]
    }
   ],
   "source": [
    "C_values = [0.01, 0.1, 1, 10, 100]\n",
    "penalties = ['l1', 'l2']\n",
    "\n",
    "best_model = None\n",
    "best_result = 0\n",
    "best_C = None\n",
    "best_penalty = None\n",
    "\n",
    "for C in C_values:\n",
    "    for penalty in penalties:\n",
    "        # Intentar entrenar el modelo con los hiperparámetros actuales\n",
    "        try:\n",
    "            model = LogisticRegression(C=C, penalty=penalty, solver='liblinear', random_state=12345)\n",
    "            model.fit(x_train_over_sampled, y_train_over_sampled)\n",
    "            y_pred = model.predict(df_val.drop('exited', axis=1))\n",
    "            result = f1_score(df_val['exited'], y_pred)\n",
    "\n",
    "            # Actualizar los mejores hiperparámetros si el resultado es mejor\n",
    "            if result > best_result:\n",
    "                best_model = model\n",
    "                best_result = result\n",
    "                best_C = C\n",
    "                best_penalty = penalty\n",
    "\n",
    "        except Exception as e:\n",
    "            print(f\"No se pudo entrenar el modelo con C = {C} y penalty = {penalty}: {e}\")\n",
    "\n",
    "print(f\"Mejor F1 Score: {best_result}, Mejor C: {best_C}, Mejor Penalty: {best_penalty}\")"
   ]
  },
  {
   "cell_type": "code",
   "execution_count": 166,
   "metadata": {},
   "outputs": [],
   "source": [
    "# Seleccionar el modelo con el conjunto sobremuestreado\n",
    "model_over = LogisticRegression(C= 0.1, penalty=\"l2\", random_state=12345, solver='liblinear')\n",
    "\n",
    "# Entrenar el modelo con el conjunto sobremuestreado\n",
    "model_over.fit(x_train_over_sampled, y_train_over_sampled)\n",
    "\n",
    "# Predecir la variable objetivo para el conjunto de validación con el conjunto sobremuestreado\n",
    "y_pred_over_log = model_over.predict(df_val.drop('exited', axis=1))"
   ]
  },
  {
   "cell_type": "code",
   "execution_count": 167,
   "metadata": {},
   "outputs": [
    {
     "name": "stdout",
     "output_type": "stream",
     "text": [
      "Accuracy: 0.7060117302052786\n",
      "Recall: 0.7299270072992701\n",
      "ROC AUC: 0.714963503649635\n",
      "F1 Score: 0.49937578027465673\n"
     ]
    }
   ],
   "source": [
    "# Calcular la precisión con el conjunto sobremuestreado\n",
    "accuracy_over_log = accuracy_score(df_val['exited'], y_pred_over_log)\n",
    "\n",
    "# Calcular el recall con el conjunto sobremuestreado\n",
    "recall_over_log = recall_score(df_val['exited'], y_pred_over_log)\n",
    "\n",
    "# Calcular el F1-score con el conjunto sobremuestreado\n",
    "f1_over_log = f1_score(df_val['exited'], y_pred_over_log)\n",
    "\n",
    "# Calcular el ROC AUC con el conjunto sobremuestreado\n",
    "roc_auc_over_log = roc_auc_score(df_val['exited'], y_pred_over_log)\n",
    "\n",
    "print(f\"Accuracy: {accuracy_over_log}\")\n",
    "print(f\"Recall: {recall_over_log}\")\n",
    "print(f\"ROC AUC: {roc_auc_over_log}\")\n",
    "print(f\"F1 Score: {f1_over_log}\")"
   ]
  },
  {
   "cell_type": "markdown",
   "metadata": {},
   "source": [
    "Haciendo el mismo proceso pero con los datos balanceados con oversampling, podemos ver que el F1 ha subido a 0.4993, lo cual es un buen resultado."
   ]
  },
  {
   "cell_type": "markdown",
   "metadata": {},
   "source": [
    "#### Submuestreo (undersampling)"
   ]
  },
  {
   "cell_type": "markdown",
   "metadata": {},
   "source": [
    "##### Busqueda de mejores parametros"
   ]
  },
  {
   "cell_type": "code",
   "execution_count": 168,
   "metadata": {},
   "outputs": [
    {
     "name": "stdout",
     "output_type": "stream",
     "text": [
      "Mejor F1 Score: 0.5, Mejor C: 0.01, Mejor Penalty: l2\n"
     ]
    }
   ],
   "source": [
    "C_values = [0.01, 0.1, 1, 10, 100]\n",
    "penalties = ['l1', 'l2']\n",
    "\n",
    "best_model = None\n",
    "best_result = 0\n",
    "best_C = None\n",
    "best_penalty = None\n",
    "\n",
    "for C in C_values:\n",
    "    for penalty in penalties:\n",
    "        # Intentar entrenar el modelo con los hiperparámetros actuales\n",
    "        try:\n",
    "            model = LogisticRegression(C=C, penalty=penalty, solver='liblinear', random_state=12345)\n",
    "            model.fit(x_train_under_sampled, y_train_under_sampled)\n",
    "            y_pred = model.predict(df_val.drop('exited', axis=1))\n",
    "            result = f1_score(df_val['exited'], y_pred)\n",
    "\n",
    "            # Actualizar los mejores hiperparámetros si el resultado es mejor\n",
    "            if result > best_result:\n",
    "                best_model = model\n",
    "                best_result = result\n",
    "                best_C = C\n",
    "                best_penalty = penalty\n",
    "\n",
    "        except Exception as e:\n",
    "            print(f\"No se pudo entrenar el modelo con C = {C} y penalty = {penalty}: {e}\")\n",
    "\n",
    "print(f\"Mejor F1 Score: {best_result}, Mejor C: {best_C}, Mejor Penalty: {best_penalty}\")"
   ]
  },
  {
   "cell_type": "code",
   "execution_count": 169,
   "metadata": {},
   "outputs": [],
   "source": [
    "# Seleccionar el modelo con el conjunto submuestreado\n",
    "model_under_log = LogisticRegression(C=0.01, penalty=\"l2\", random_state=12345, solver='liblinear')\n",
    "\n",
    "# Entrenar el modelo con el conjunto submuestreado\n",
    "model_under_log.fit(x_train_under_sampled, y_train_under_sampled)\n",
    "\n",
    "# Predecir la variable objetivo para el conjunto de validación con el conjunto submuestreado\n",
    "y_pred_under_log = model_under_log.predict(df_val.drop('exited', axis=1))"
   ]
  },
  {
   "cell_type": "code",
   "execution_count": 170,
   "metadata": {},
   "outputs": [
    {
     "name": "stdout",
     "output_type": "stream",
     "text": [
      "Accuracy: 0.7111436950146628\n",
      "Recall: 0.718978102189781\n",
      "ROC AUC: 0.7140762070581933\n",
      "F1 Score: 0.5\n"
     ]
    }
   ],
   "source": [
    "# Calcular la precisión con el conjunto submuestreado\n",
    "accuracy_under_log = accuracy_score(df_val['exited'], y_pred_under_log)\n",
    "\n",
    "# Calcular el recall con el conjunto submuestreado\n",
    "recall_under_log = recall_score(df_val['exited'], y_pred_under_log)\n",
    "\n",
    "# Calcular el F1-score con el conjunto submuestreado\n",
    "f1_under_log = f1_score(df_val['exited'], y_pred_under_log)\n",
    "\n",
    "# Calcular el ROC AUC con el conjunto submuestreado\n",
    "roc_auc_under_log = roc_auc_score(df_val['exited'], y_pred_under_log)\n",
    "\n",
    "print(f\"Accuracy: {accuracy_under_log}\")\n",
    "print(f\"Recall: {recall_under_log}\")\n",
    "print(f\"ROC AUC: {roc_auc_under_log}\")\n",
    "print(f\"F1 Score: {f1_under_log}\")"
   ]
  },
  {
   "cell_type": "markdown",
   "metadata": {},
   "source": [
    "Utilizando los datos balanceados con undersampling, podemos ver que el F1 ha subido a 0.5 lo cual es un buen resultado. Siendo este el mejor resultado de los 3 modelos."
   ]
  },
  {
   "cell_type": "markdown",
   "metadata": {},
   "source": [
    "### Decision Tree Classifier"
   ]
  },
  {
   "cell_type": "markdown",
   "metadata": {},
   "source": [
    "#### Sin balanceo"
   ]
  },
  {
   "cell_type": "markdown",
   "metadata": {},
   "source": [
    "##### Busqueda de mejores parametros"
   ]
  },
  {
   "cell_type": "code",
   "execution_count": 171,
   "metadata": {},
   "outputs": [
    {
     "name": "stdout",
     "output_type": "stream",
     "text": [
      "Mejor F1: 0.5870020964360587, Mejor max_depth: 7, Mejor min_samples_split: 2, Mejor min_samples_leaf: 5\n"
     ]
    }
   ],
   "source": [
    "best_model = None\n",
    "best_result = 0\n",
    "best_depth = None\n",
    "best_min_samples_split = None\n",
    "best_min_samples_leaf = None\n",
    "\n",
    "for depth in range(1, 11):\n",
    "    for min_samples_split in range(2, 11):\n",
    "        for min_samples_leaf in range(1, 6):\n",
    "            model = DecisionTreeClassifier(max_depth=depth, min_samples_split=min_samples_split, min_samples_leaf=min_samples_leaf, random_state=12345)\n",
    "            model.fit(x_train, y_train)\n",
    "            predictions_valid = model.predict(df_val.drop('exited', axis=1))\n",
    "            result = f1_score(df_val['exited'], predictions_valid)\n",
    "\n",
    "            if result > best_result:\n",
    "                best_model = model\n",
    "                best_result = result\n",
    "                best_depth = depth\n",
    "                best_min_samples_split = min_samples_split\n",
    "                best_min_samples_leaf = min_samples_leaf\n",
    "\n",
    "print(f\"Mejor F1: {best_result}, Mejor max_depth: {best_depth}, Mejor min_samples_split: {best_min_samples_split}, Mejor min_samples_leaf: {best_min_samples_leaf}\")"
   ]
  },
  {
   "cell_type": "code",
   "execution_count": 172,
   "metadata": {},
   "outputs": [],
   "source": [
    "# Seleccionar modelo\n",
    "decision_tree_model_no_balance = DecisionTreeClassifier(max_depth=7, min_samples_split=2, min_samples_leaf=5, random_state=12345)\n",
    "\n",
    "# Entrenar modelo\n",
    "decision_tree_model_no_balance.fit(x_train, y_train)\n",
    "\n",
    "# Predecir la variable objetivo para el conjunto de validación\n",
    "y_pred_no_balance_tree = decision_tree_model_no_balance.predict(df_val.drop('exited', axis=1))"
   ]
  },
  {
   "cell_type": "code",
   "execution_count": 173,
   "metadata": {},
   "outputs": [
    {
     "name": "stdout",
     "output_type": "stream",
     "text": [
      "Accuracy: 0.8555718475073314\n",
      "Recall: 0.5109489051094891\n",
      "ROC AUC: 0.7265753699859372\n",
      "F1 Score: 0.5870020964360587\n"
     ]
    }
   ],
   "source": [
    "# Calcular la precisión\n",
    "accuracy_no_balance_tree = accuracy_score(df_val['exited'], y_pred_no_balance_tree)\n",
    "\n",
    "# Calcular el recall\n",
    "recall_no_balance_tree = recall_score(df_val['exited'], y_pred_no_balance_tree)\n",
    "\n",
    "# Calcular el F1-score\n",
    "f1_no_balance_tree = f1_score(df_val['exited'], y_pred_no_balance_tree)\n",
    "\n",
    "# Calcular el ROC AUC\n",
    "roc_auc_no_balance_tree = roc_auc_score(df_val['exited'], y_pred_no_balance_tree)\n",
    "\n",
    "print(f\"Accuracy: {accuracy_no_balance_tree}\")\n",
    "print(f\"Recall: {recall_no_balance_tree}\")\n",
    "print(f\"ROC AUC: {roc_auc_no_balance_tree}\")\n",
    "print(f\"F1 Score: {f1_no_balance_tree}\")"
   ]
  },
  {
   "cell_type": "markdown",
   "metadata": {},
   "source": [
    "Podemos ver que el modelo de arbol de decision con los datos sin balancear nos da un F1 de 0.5870, lo cual esta bastante bien teniendo en cuenta que no hemos hecho ningun tipo de balanceo."
   ]
  },
  {
   "cell_type": "markdown",
   "metadata": {},
   "source": [
    "#### Sobremuestreo (oversampling)"
   ]
  },
  {
   "cell_type": "markdown",
   "metadata": {},
   "source": [
    "##### Busqueda de mejores parametros"
   ]
  },
  {
   "cell_type": "code",
   "execution_count": 174,
   "metadata": {},
   "outputs": [
    {
     "name": "stdout",
     "output_type": "stream",
     "text": [
      "Mejor F1: 0.5534246575342465, Mejor max_depth: 5, Mejor min_samples_split: 2, Mejor min_samples_leaf: 4\n"
     ]
    }
   ],
   "source": [
    "best_model = None\n",
    "best_result = 0\n",
    "best_depth = None\n",
    "best_min_samples_split = None\n",
    "best_min_samples_leaf = None\n",
    "\n",
    "for depth in range(1, 11):\n",
    "    for min_samples_split in range(2, 11):\n",
    "        for min_samples_leaf in range(1, 6):\n",
    "            model = DecisionTreeClassifier(max_depth=depth, min_samples_split=min_samples_split, min_samples_leaf=min_samples_leaf, random_state=12345)\n",
    "            model.fit(x_train_over_sampled, y_train_over_sampled)\n",
    "            predictions_valid = model.predict(df_val.drop('exited', axis=1))\n",
    "            result = f1_score(df_val['exited'], predictions_valid)\n",
    "\n",
    "            if result > best_result:\n",
    "                best_model = model\n",
    "                best_result = result\n",
    "                best_depth = depth\n",
    "                best_min_samples_split = min_samples_split\n",
    "                best_min_samples_leaf = min_samples_leaf\n",
    "\n",
    "print(f\"Mejor F1: {best_result}, Mejor max_depth: {best_depth}, Mejor min_samples_split: {best_min_samples_split}, Mejor min_samples_leaf: {best_min_samples_leaf}\")"
   ]
  },
  {
   "cell_type": "code",
   "execution_count": 175,
   "metadata": {},
   "outputs": [],
   "source": [
    "# Seleccionar el modelo con el conjunto sobremuestreado\n",
    "decision_tree_model_over = DecisionTreeClassifier(max_depth=5, min_samples_split=2, min_samples_leaf=4, random_state=12345)\n",
    "\n",
    "# Entrenar el modelo con el conjunto sobremuestreado\n",
    "decision_tree_model_over.fit(x_train_over_sampled, y_train_over_sampled)\n",
    "\n",
    "# Predecir la variable objetivo para el conjunto de validación con el conjunto sobremuestreado\n",
    "y_pred_over_tree = decision_tree_model_over.predict(df_val.drop('exited', axis=1))"
   ]
  },
  {
   "cell_type": "code",
   "execution_count": 176,
   "metadata": {},
   "outputs": [
    {
     "name": "stdout",
     "output_type": "stream",
     "text": [
      "Accuracy: 0.7609970674486803\n",
      "Recall: 0.7372262773722628\n",
      "ROC AUC: 0.7520993772182414\n",
      "F1 Score: 0.5534246575342465\n"
     ]
    }
   ],
   "source": [
    "# Calcular la precisión\n",
    "accuracy_over_tree = accuracy_score(df_val['exited'], y_pred_over_tree)\n",
    "\n",
    "# Calcular el recall\n",
    "recall_over_tree = recall_score(df_val['exited'], y_pred_over_tree)\n",
    "\n",
    "# Calcular el F1-score\n",
    "f1_over_tree = f1_score(df_val['exited'], y_pred_over_tree)\n",
    "\n",
    "# Calcular el ROC AUC\n",
    "roc_auc_over_tree = roc_auc_score(df_val['exited'], y_pred_over_tree)\n",
    "\n",
    "print(f\"Accuracy: {accuracy_over_tree}\")\n",
    "print(f\"Recall: {recall_over_tree}\")\n",
    "print(f\"ROC AUC: {roc_auc_over_tree}\")\n",
    "print(f\"F1 Score: {f1_over_tree}\")"
   ]
  },
  {
   "cell_type": "markdown",
   "metadata": {},
   "source": [
    "Nuestro modelo de arbol de decision con los datos balanceados con oversampling nos da un F1 de 0.5534, y nos da un menor F1 que el modelo sin balancear. Por lo que podemos ver que el balanceo no ha ayudado a nuestro modelo en este caso."
   ]
  },
  {
   "cell_type": "markdown",
   "metadata": {},
   "source": [
    "#### Submuestreo (undersampling)"
   ]
  },
  {
   "cell_type": "markdown",
   "metadata": {},
   "source": [
    "##### Busqueda de mejores parametros"
   ]
  },
  {
   "cell_type": "code",
   "execution_count": 177,
   "metadata": {},
   "outputs": [
    {
     "name": "stdout",
     "output_type": "stream",
     "text": [
      "Mejor F1: 0.5706447187928669, Mejor max_depth: 6, Mejor min_samples_split: 2, Mejor min_samples_leaf: 2\n"
     ]
    }
   ],
   "source": [
    "best_model = None\n",
    "best_result = 0\n",
    "best_depth = None\n",
    "best_min_samples_split = None\n",
    "best_min_samples_leaf = None\n",
    "\n",
    "for depth in range(1, 11):\n",
    "    for min_samples_split in range(2, 11):\n",
    "        for min_samples_leaf in range(1, 6):\n",
    "            model = DecisionTreeClassifier(max_depth=depth, min_samples_split=min_samples_split, min_samples_leaf=min_samples_leaf, random_state=12345)\n",
    "            model.fit(x_train_under_sampled, y_train_under_sampled)\n",
    "            predictions_valid = model.predict(df_val.drop('exited', axis=1))\n",
    "            result = f1_score(df_val['exited'], predictions_valid)\n",
    "\n",
    "            if result > best_result:\n",
    "                best_model = model\n",
    "                best_result = result\n",
    "                best_depth = depth\n",
    "                best_min_samples_split = min_samples_split\n",
    "                best_min_samples_leaf = min_samples_leaf\n",
    "\n",
    "print(f\"Mejor F1: {best_result}, Mejor max_depth: {best_depth}, Mejor min_samples_split: {best_min_samples_split}, Mejor min_samples_leaf: {best_min_samples_leaf}\")"
   ]
  },
  {
   "cell_type": "code",
   "execution_count": 178,
   "metadata": {},
   "outputs": [],
   "source": [
    "# Seleccionar el modelo con el conjunto submuestreado\n",
    "decision_tree_model_under = DecisionTreeClassifier(max_depth=6, min_samples_split=2, min_samples_leaf=2, random_state=12345)\n",
    "\n",
    "# Entrenar el modelo con el conjunto submuestreado\n",
    "decision_tree_model_under.fit(x_train_under_sampled, y_train_under_sampled)\n",
    "\n",
    "# Predecir la variable objetivo para el conjunto de validación con el conjunto submuestreado\n",
    "y_pred_under_tree = decision_tree_model_under.predict(df_val.drop('exited', axis=1))"
   ]
  },
  {
   "cell_type": "code",
   "execution_count": 179,
   "metadata": {},
   "outputs": [
    {
     "name": "stdout",
     "output_type": "stream",
     "text": [
      "Accuracy: 0.7705278592375366\n",
      "Recall: 0.7591240875912408\n",
      "ROC AUC: 0.7662592915020424\n",
      "F1 Score: 0.5706447187928669\n"
     ]
    }
   ],
   "source": [
    "# Calcular la precisión\n",
    "accuracy_under_tree = accuracy_score(df_val['exited'], y_pred_under_tree)\n",
    "\n",
    "# Calcular el recall\n",
    "recall_under_tree = recall_score(df_val['exited'], y_pred_under_tree)\n",
    "\n",
    "# Calcular el F1-score\n",
    "f1_under_tree = f1_score(df_val['exited'], y_pred_under_tree)\n",
    "\n",
    "# Calcular el ROC AUC\n",
    "roc_auc_under_tree = roc_auc_score(df_val['exited'], y_pred_under_tree)\n",
    "\n",
    "print(f\"Accuracy: {accuracy_under_tree}\")\n",
    "print(f\"Recall: {recall_under_tree}\")\n",
    "print(f\"ROC AUC: {roc_auc_under_tree}\")\n",
    "print(f\"F1 Score: {f1_under_tree}\")\n"
   ]
  },
  {
   "cell_type": "markdown",
   "metadata": {},
   "source": [
    "Utilizando el metodo de under sampling, podemos ver que el F1 es de 0.5706, lo cual es un buen resultado, pero no es mejor que el modelo sin balancear ya que tiene un F1 de 0.5870. Por lo tanto podemos ver que el balanceo no ha ayudado a nuestro modelo en este caso y lo mejor es utilizar los datos sin balancear por el momento"
   ]
  },
  {
   "cell_type": "markdown",
   "metadata": {},
   "source": [
    "### Random Forest Classifier"
   ]
  },
  {
   "cell_type": "markdown",
   "metadata": {},
   "source": [
    "#### Sin balanceo"
   ]
  },
  {
   "cell_type": "markdown",
   "metadata": {},
   "source": [
    "##### Busqueda de mejores parametros"
   ]
  },
  {
   "cell_type": "code",
   "execution_count": 180,
   "metadata": {},
   "outputs": [
    {
     "name": "stdout",
     "output_type": "stream",
     "text": [
      "Mejor F1 Score en el conjunto de validación: 0.574766, n_estimators: 40, max_depth: 9\n"
     ]
    }
   ],
   "source": [
    "best_model = None\n",
    "best_result = 0  \n",
    "best_n_estimators = 0\n",
    "best_max_depth = 0\n",
    "\n",
    "# Iterar sobre un rango de valores para n_estimators y max_depth\n",
    "for n_estimators in range(10, 101, 10):\n",
    "    for max_depth in range(1, 11):\n",
    "        model = RandomForestClassifier(n_estimators=n_estimators, max_depth=max_depth, random_state=12345)\n",
    "        model.fit(x_train, y_train) # Datos sin balancear\n",
    "        predictions_valid = model.predict(df_val.drop('exited', axis=1)) \n",
    "        result = f1_score(df_val['exited'], predictions_valid)\n",
    "\n",
    "        # Actualizar el mejor modelo si el F1 score actual es mejor que el mejor encontrado hasta ahora\n",
    "        if result > best_result:\n",
    "            best_model = model\n",
    "            best_result = result\n",
    "            best_n_estimators = n_estimators\n",
    "            best_max_depth = max_depth\n",
    "\n",
    "print(\"Mejor F1 Score en el conjunto de validación: %f, n_estimators: %d, max_depth: %d\" % (best_result, best_n_estimators, best_max_depth))"
   ]
  },
  {
   "cell_type": "code",
   "execution_count": 181,
   "metadata": {},
   "outputs": [],
   "source": [
    "# Seleccionar modelo\n",
    "random_forest_model_no_balance = RandomForestClassifier(n_estimators=40, max_depth=9, random_state=12345)\n",
    "\n",
    "# Entrenar modelo\n",
    "random_forest_model_no_balance.fit(x_train, y_train)\n",
    "\n",
    "# Predecir la variable objetivo para el conjunto de validación\n",
    "y_pred_no_balance_forest = random_forest_model_no_balance.predict(df_val.drop('exited', axis=1))\n",
    "\n"
   ]
  },
  {
   "cell_type": "code",
   "execution_count": 182,
   "metadata": {},
   "outputs": [
    {
     "name": "stdout",
     "output_type": "stream",
     "text": [
      "Accuracy: 0.8665689149560117\n",
      "Recall: 0.4489051094890511\n",
      "ROC AUC: 0.710232371258287\n",
      "F1 Score: 0.5747663551401869\n"
     ]
    }
   ],
   "source": [
    "# Calcular la precisión\n",
    "accuracy_no_balance_forest = accuracy_score(df_val['exited'], y_pred_no_balance_forest)\n",
    "\n",
    "# Calcular el recall\n",
    "recall_no_balance_forest = recall_score(df_val['exited'], y_pred_no_balance_forest)\n",
    "\n",
    "# Calcular el F1-score\n",
    "f1_no_balance_forest = f1_score(df_val['exited'], y_pred_no_balance_forest)\n",
    "\n",
    "# Calcular el ROC AUC\n",
    "roc_auc_no_balance_forest = roc_auc_score(df_val['exited'], y_pred_no_balance_forest)\n",
    "\n",
    "print(f\"Accuracy: {accuracy_no_balance_forest}\")\n",
    "print(f\"Recall: {recall_no_balance_forest}\")\n",
    "print(f\"ROC AUC: {roc_auc_no_balance_forest}\")\n",
    "print(f\"F1 Score: {f1_no_balance_forest}\")\n"
   ]
  },
  {
   "cell_type": "markdown",
   "metadata": {},
   "source": [
    "Como podemos ver el modelo de random forest nos da un F1 de 0.5747, con los datos sin balancear, ahora vamos a ver si el balanceo nos ayuda a mejorar este modelo"
   ]
  },
  {
   "cell_type": "markdown",
   "metadata": {},
   "source": [
    "#### Sobremuestreo (oversampling)"
   ]
  },
  {
   "cell_type": "markdown",
   "metadata": {},
   "source": [
    "##### Busqueda de mejores parametros"
   ]
  },
  {
   "cell_type": "code",
   "execution_count": 183,
   "metadata": {},
   "outputs": [
    {
     "name": "stdout",
     "output_type": "stream",
     "text": [
      "Mejor F1 Score en el conjunto de validación: 0.623622, n_estimators: 90, max_depth: 10\n"
     ]
    }
   ],
   "source": [
    "best_model = None\n",
    "best_result = 0  \n",
    "best_n_estimators = 0\n",
    "best_max_depth = 0\n",
    "\n",
    "# Iterar sobre un rango de valores para n_estimators y max_depth\n",
    "for n_estimators in range(10, 101, 10):\n",
    "    for max_depth in range(1, 11):\n",
    "        model = RandomForestClassifier(n_estimators=n_estimators, max_depth=max_depth, random_state=12345)\n",
    "        model.fit(x_train_over_sampled, y_train_over_sampled) # Datos sobremuestreados\n",
    "        predictions_valid = model.predict(df_val.drop('exited', axis=1)) \n",
    "        result = f1_score(df_val['exited'], predictions_valid)\n",
    "\n",
    "        # Actualizar el mejor modelo si el F1 score actual es mejor que el mejor encontrado hasta ahora\n",
    "        if result > best_result:\n",
    "            best_model = model\n",
    "            best_result = result\n",
    "            best_n_estimators = n_estimators\n",
    "            best_max_depth = max_depth\n",
    "\n",
    "print(\"Mejor F1 Score en el conjunto de validación: %f, n_estimators: %d, max_depth: %d\" % (best_result, best_n_estimators, best_max_depth))"
   ]
  },
  {
   "cell_type": "code",
   "execution_count": 184,
   "metadata": {},
   "outputs": [],
   "source": [
    "# Seleccionar modelo\n",
    "random_forest_model_over = RandomForestClassifier(n_estimators=90, max_depth=10, random_state=12345)\n",
    "\n",
    "# Entrenar modelo\n",
    "random_forest_model_over.fit(x_train_over_sampled, y_train_over_sampled)\n",
    "\n",
    "# Predecir la variable objetivo para el conjunto de validación\n",
    "y_pred_over_forest = random_forest_model_over.predict(df_val.drop('exited', axis=1))"
   ]
  },
  {
   "cell_type": "code",
   "execution_count": 185,
   "metadata": {},
   "outputs": [
    {
     "name": "stdout",
     "output_type": "stream",
     "text": [
      "Accuracy: 0.8247800586510264\n",
      "Recall: 0.7226277372262774\n",
      "ROC AUC: 0.7865432264113038\n",
      "F1 Score: 0.6236220472440944\n"
     ]
    }
   ],
   "source": [
    "# Calcular la precisión\n",
    "accuracy_over_forest = accuracy_score(df_val['exited'], y_pred_over_forest)\n",
    "\n",
    "# Calcular el recall\n",
    "recall_over_forest = recall_score(df_val['exited'], y_pred_over_forest)\n",
    "\n",
    "# Calcular el F1-score\n",
    "f1_over_forest = f1_score(df_val['exited'], y_pred_over_forest)\n",
    "\n",
    "# Calcular el ROC AUC\n",
    "roc_auc_over_forest = roc_auc_score(df_val['exited'], y_pred_over_forest)\n",
    "\n",
    "print(f\"Accuracy: {accuracy_over_forest}\")\n",
    "print(f\"Recall: {recall_over_forest}\")\n",
    "print(f\"ROC AUC: {roc_auc_over_forest}\")\n",
    "print(f\"F1 Score: {f1_over_forest}\")\n"
   ]
  },
  {
   "cell_type": "markdown",
   "metadata": {},
   "source": [
    "Este es el modelo que mejor resultado nos ha dado, con un F1 de 0.6236, lo cual es un buen resultado pero nos falta ver si el modelo con los datos balanceados con undersampling nos da un resultado mejor."
   ]
  },
  {
   "cell_type": "markdown",
   "metadata": {},
   "source": [
    "#### Submuestreo (undersampling)"
   ]
  },
  {
   "cell_type": "markdown",
   "metadata": {},
   "source": [
    "##### Busqueda de mejores parametros"
   ]
  },
  {
   "cell_type": "code",
   "execution_count": 186,
   "metadata": {},
   "outputs": [
    {
     "name": "stdout",
     "output_type": "stream",
     "text": [
      "Mejor F1 Score en el conjunto de validación: 0.593103, n_estimators: 50, max_depth: 8\n"
     ]
    }
   ],
   "source": [
    "best_model = None\n",
    "best_result = 0  \n",
    "best_n_estimators = 0\n",
    "best_max_depth = 0\n",
    "\n",
    "# Iterar sobre un rango de valores para n_estimators y max_depth\n",
    "for n_estimators in range(10, 101, 10):\n",
    "    for max_depth in range(1, 11):\n",
    "        model = RandomForestClassifier(n_estimators=n_estimators, max_depth=max_depth, random_state=12345)\n",
    "        model.fit(x_train_under_sampled, y_train_under_sampled) # Datos submuestreados\n",
    "        predictions_valid = model.predict(df_val.drop('exited', axis=1)) \n",
    "        result = f1_score(df_val['exited'], predictions_valid)\n",
    "\n",
    "        # Actualizar el mejor modelo si el F1 score actual es mejor que el mejor encontrado hasta ahora\n",
    "        if result > best_result:\n",
    "            best_model = model\n",
    "            best_result = result\n",
    "            best_n_estimators = n_estimators\n",
    "            best_max_depth = max_depth\n",
    "\n",
    "print(\"Mejor F1 Score en el conjunto de validación: %f, n_estimators: %d, max_depth: %d\" % (best_result, best_n_estimators, best_max_depth))"
   ]
  },
  {
   "cell_type": "code",
   "execution_count": 187,
   "metadata": {},
   "outputs": [],
   "source": [
    "# Seleccionar modelo\n",
    "random_forest_model_under = RandomForestClassifier(n_estimators=50, max_depth=8, random_state=12345)\n",
    "\n",
    "# Entrenar modelo\n",
    "random_forest_model_under.fit(x_train_under_sampled, y_train_under_sampled)\n",
    "\n",
    "# Predecir la variable objetivo para el conjunto de validación\n",
    "y_pred_under_forest = random_forest_model_under.predict(df_val.drop('exited', axis=1))"
   ]
  },
  {
   "cell_type": "code",
   "execution_count": 188,
   "metadata": {},
   "outputs": [
    {
     "name": "stdout",
     "output_type": "stream",
     "text": [
      "Accuracy: 0.783724340175953\n",
      "Recall: 0.7846715328467153\n",
      "ROC AUC: 0.7840788856894126\n",
      "F1 Score: 0.5931034482758621\n"
     ]
    }
   ],
   "source": [
    "# Calcular la precisión\n",
    "accuracy_under_forest = accuracy_score(df_val['exited'], y_pred_under_forest)\n",
    "\n",
    "# Calcular el recall\n",
    "recall_under_forest = recall_score(df_val['exited'], y_pred_under_forest)\n",
    "\n",
    "# Calcular el F1-score\n",
    "f1_under_forest = f1_score(df_val['exited'], y_pred_under_forest)\n",
    "\n",
    "# Calcular el ROC AUC\n",
    "roc_auc_under_forest = roc_auc_score(df_val['exited'], y_pred_under_forest)\n",
    "\n",
    "print(f\"Accuracy: {accuracy_under_forest}\")\n",
    "print(f\"Recall: {recall_under_forest}\")\n",
    "print(f\"ROC AUC: {roc_auc_under_forest}\")\n",
    "print(f\"F1 Score: {f1_under_forest}\")\n",
    "\n"
   ]
  },
  {
   "cell_type": "markdown",
   "metadata": {},
   "source": [
    "El resultado de este modelo es de F1 = 0.5931 por lo cual podemos decir que el modelo con los datos balanceados con oversampling es el mejor de los 3 modelos."
   ]
  },
  {
   "cell_type": "markdown",
   "metadata": {},
   "source": [
    "## Conclusiones"
   ]
  },
  {
   "cell_type": "markdown",
   "metadata": {},
   "source": [
    "En este proyecto hemos analizado los datos de un banco para ver si podemos predecir si un cliente se va a ir del banco o no, para asi poder tomar medidas y evitar que esto suceda. Hemos analizado los datos, los hemos preparado para poder entrenar nuestro modelo, hemos entrenado 3 modelos diferentes y hemos visto que el modelo que mejor resultado nos ha dado es el modelo de Random Forest con los datos balanceados con oversampling, ya que nos da un F1 de 0.6236, lo cual es un buen resultado.\n",
    "\n"
   ]
  }
 ],
 "metadata": {
  "kernelspec": {
   "display_name": "Python 3 (ipykernel)",
   "language": "python",
   "name": "python3"
  },
  "language_info": {
   "codemirror_mode": {
    "name": "ipython",
    "version": 3
   },
   "file_extension": ".py",
   "mimetype": "text/x-python",
   "name": "python",
   "nbconvert_exporter": "python",
   "pygments_lexer": "ipython3",
   "version": "3.11.4"
  }
 },
 "nbformat": 4,
 "nbformat_minor": 2
}
